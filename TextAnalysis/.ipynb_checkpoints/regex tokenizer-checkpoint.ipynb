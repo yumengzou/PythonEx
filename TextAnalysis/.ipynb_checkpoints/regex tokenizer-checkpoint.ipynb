{
 "cells": [
  {
   "cell_type": "code",
   "execution_count": 4,
   "metadata": {
    "collapsed": true
   },
   "outputs": [],
   "source": [
    "import re"
   ]
  },
  {
   "cell_type": "code",
   "execution_count": 23,
   "metadata": {
    "collapsed": true
   },
   "outputs": [],
   "source": [
    "def re_tokenizer(rawstr):\n",
    "    ans=re.split(r\"[\\W\\s\\t\\n^$]*\",rawstr)\n",
    "    return ans"
   ]
  },
  {
   "cell_type": "code",
   "execution_count": 21,
   "metadata": {
    "collapsed": false
   },
   "outputs": [],
   "source": [
    "path=\"/Users/yumeng.zou/Documents/shakespeare/hamlet.txt\"\n",
    "hamlet=re_tokenizer(open(path,'r').read())"
   ]
  },
  {
   "cell_type": "code",
   "execution_count": 24,
   "metadata": {
    "collapsed": false
   },
   "outputs": [
    {
     "name": "stdout",
     "output_type": "stream",
     "text": [
      "['', 'Who', 's', 'there', '', '', '', '', '', 'Nay', '', 'answer', 'me', '', 'stand', '', 'and', 'unfold', 'yourself', '', '', '', '', '', 'Long', 'live', 'the', 'king', '', '', '', '', '', 'Bernardo', '', '', '', '', '', 'He', '', '', '', '', '', 'You', 'come', 'most', 'carefully', 'upon', 'your', 'hour', '', '', '', '', '', '', 'Tis', 'now', 'struck', 'twelve', '', 'get', 'thee', 'to', 'bed', '', 'Francisco', '', '', '', '', '', 'For', 'this', 'relief', 'much', 'thanks', '', '', 'tis', 'bitter', 'cold', '', '', '', 'And', 'I', 'am', 'sick', 'at', 'heart', '', '', '', '', '', 'Have', 'you']\n"
     ]
    }
   ],
   "source": [
    "print hamlet[:100]"
   ]
  },
  {
   "cell_type": "code",
   "execution_count": null,
   "metadata": {
    "collapsed": true
   },
   "outputs": [],
   "source": []
  }
 ],
 "metadata": {
  "kernelspec": {
   "display_name": "Python 2",
   "language": "python",
   "name": "python2"
  },
  "language_info": {
   "codemirror_mode": {
    "name": "ipython",
    "version": 2
   },
   "file_extension": ".py",
   "mimetype": "text/x-python",
   "name": "python",
   "nbconvert_exporter": "python",
   "pygments_lexer": "ipython2",
   "version": "2.7.13"
  }
 },
 "nbformat": 4,
 "nbformat_minor": 2
}
