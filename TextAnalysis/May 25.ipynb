{
 "cells": [
  {
   "cell_type": "code",
   "execution_count": 1,
   "metadata": {
    "collapsed": true
   },
   "outputs": [],
   "source": [
    "s=\"It's a man's world\""
   ]
  },
  {
   "cell_type": "code",
   "execution_count": 2,
   "metadata": {
    "collapsed": false
   },
   "outputs": [
    {
     "data": {
      "text/plain": [
       "\"It is a man's world\""
      ]
     },
     "execution_count": 2,
     "metadata": {},
     "output_type": "execute_result"
    }
   ],
   "source": [
    "s.replace(\"'s\",\" is\", 1)"
   ]
  },
  {
   "cell_type": "code",
   "execution_count": 3,
   "metadata": {
    "collapsed": true
   },
   "outputs": [],
   "source": [
    "s=s.replace(\"'s\",\" is\", 1)"
   ]
  },
  {
   "cell_type": "code",
   "execution_count": 4,
   "metadata": {
    "collapsed": false
   },
   "outputs": [
    {
     "data": {
      "text/plain": [
       "\"It is a man's world\""
      ]
     },
     "execution_count": 4,
     "metadata": {},
     "output_type": "execute_result"
    }
   ],
   "source": [
    "s"
   ]
  },
  {
   "cell_type": "code",
   "execution_count": 5,
   "metadata": {
    "collapsed": true
   },
   "outputs": [],
   "source": [
    "x=\"Hello\"\n",
    "y=\"World\"\n",
    "z=42"
   ]
  },
  {
   "cell_type": "code",
   "execution_count": 6,
   "metadata": {
    "collapsed": false
   },
   "outputs": [
    {
     "ename": "TypeError",
     "evalue": "cannot concatenate 'str' and 'int' objects",
     "output_type": "error",
     "traceback": [
      "\u001b[0;31m---------------------------------------------------------------------------\u001b[0m",
      "\u001b[0;31mTypeError\u001b[0m                                 Traceback (most recent call last)",
      "\u001b[0;32m<ipython-input-6-c049ae5869c4>\u001b[0m in \u001b[0;36m<module>\u001b[0;34m()\u001b[0m\n\u001b[0;32m----> 1\u001b[0;31m \u001b[0mx\u001b[0m\u001b[1;33m+\u001b[0m\u001b[0my\u001b[0m\u001b[1;33m+\u001b[0m\u001b[0mz\u001b[0m\u001b[1;33m\u001b[0m\u001b[0m\n\u001b[0m",
      "\u001b[0;31mTypeError\u001b[0m: cannot concatenate 'str' and 'int' objects"
     ]
    }
   ],
   "source": [
    "x+y+z"
   ]
  },
  {
   "cell_type": "code",
   "execution_count": 7,
   "metadata": {
    "collapsed": false
   },
   "outputs": [
    {
     "data": {
      "text/plain": [
       "'HelloWorld42'"
      ]
     },
     "execution_count": 7,
     "metadata": {},
     "output_type": "execute_result"
    }
   ],
   "source": [
    "x+y+repr(z)"
   ]
  },
  {
   "cell_type": "code",
   "execution_count": 8,
   "metadata": {
    "collapsed": true
   },
   "outputs": [],
   "source": [
    "def myadd(x,y):\n",
    "    return x+y"
   ]
  },
  {
   "cell_type": "code",
   "execution_count": 9,
   "metadata": {
    "collapsed": false
   },
   "outputs": [
    {
     "name": "stdout",
     "output_type": "stream",
     "text": [
      "90\n"
     ]
    }
   ],
   "source": [
    "print myadd(34,56)"
   ]
  },
  {
   "cell_type": "code",
   "execution_count": 29,
   "metadata": {
    "collapsed": true
   },
   "outputs": [],
   "source": [
    "def manistr(rawstr):\n",
    "    list=rawstr.split()\n",
    "    ans=[]\n",
    "    for s in list:\n",
    "        s=s.lower().strip(\"?,.;!\")\n",
    "        ans.append(s)\n",
    "    return ans\n",
    "## strip() function only removes chars from both ends of the string\n",
    "## must split first and then strip"
   ]
  },
  {
   "cell_type": "code",
   "execution_count": 18,
   "metadata": {
    "collapsed": true
   },
   "outputs": [],
   "source": [
    "s=\"To be, or not to be\""
   ]
  },
  {
   "cell_type": "code",
   "execution_count": 30,
   "metadata": {
    "collapsed": false
   },
   "outputs": [
    {
     "data": {
      "text/plain": [
       "['to', 'be', 'or', 'not', 'to', 'be']"
      ]
     },
     "execution_count": 30,
     "metadata": {},
     "output_type": "execute_result"
    }
   ],
   "source": [
    "manistr(s)"
   ]
  },
  {
   "cell_type": "code",
   "execution_count": 16,
   "metadata": {
    "collapsed": true
   },
   "outputs": [],
   "source": [
    "def mani2str(rawstr):\n",
    "    list=rawstr.split()\n",
    "    ans=[s.lower().strip(\"?.,;!\") for s in list] ## list transformation\n",
    "    return ans"
   ]
  },
  {
   "cell_type": "code",
   "execution_count": 32,
   "metadata": {
    "collapsed": false
   },
   "outputs": [
    {
     "data": {
      "text/plain": [
       "['to', 'be', 'or', 'not', 'to', 'be']"
      ]
     },
     "execution_count": 32,
     "metadata": {},
     "output_type": "execute_result"
    }
   ],
   "source": [
    "mani2str(s)"
   ]
  },
  {
   "cell_type": "code",
   "execution_count": 2,
   "metadata": {
    "collapsed": true
   },
   "outputs": [],
   "source": [
    "s1=\"Shall I compare thee to a summer's day?\"\n",
    "s2=\"It's a man's world\"\n",
    "s3=\"To be, or not to be\""
   ]
  },
  {
   "cell_type": "code",
   "execution_count": 12,
   "metadata": {
    "collapsed": false
   },
   "outputs": [],
   "source": [
    "read=[mani2str(s) for s in [s1,s2,s3]]"
   ]
  },
  {
   "cell_type": "code",
   "execution_count": 13,
   "metadata": {
    "collapsed": false
   },
   "outputs": [
    {
     "data": {
      "text/plain": [
       "[['shall', 'i', 'compare', 'thee', 'to', 'a', \"summer's\", 'day'],\n",
       " [\"it's\", 'a', \"man's\", 'world'],\n",
       " ['to', 'be', 'or', 'not', 'to', 'be']]"
      ]
     },
     "execution_count": 13,
     "metadata": {},
     "output_type": "execute_result"
    }
   ],
   "source": [
    "read"
   ]
  },
  {
   "cell_type": "code",
   "execution_count": 1,
   "metadata": {
    "collapsed": true
   },
   "outputs": [],
   "source": [
    "filename=\"/Users/yumeng.zou/Documents/shakespeare/hamlet.txt\""
   ]
  },
  {
   "cell_type": "code",
   "execution_count": 8,
   "metadata": {
    "collapsed": false
   },
   "outputs": [
    {
     "data": {
      "text/plain": [
       "str"
      ]
     },
     "execution_count": 8,
     "metadata": {},
     "output_type": "execute_result"
    }
   ],
   "source": [
    "type(filename)"
   ]
  },
  {
   "cell_type": "code",
   "execution_count": 2,
   "metadata": {
    "collapsed": false,
    "scrolled": true
   },
   "outputs": [],
   "source": [
    "f=open(filename,'r')\n",
    "## 'r' means read"
   ]
  },
  {
   "cell_type": "code",
   "execution_count": 9,
   "metadata": {
    "collapsed": false
   },
   "outputs": [
    {
     "data": {
      "text/plain": [
       "file"
      ]
     },
     "execution_count": 9,
     "metadata": {},
     "output_type": "execute_result"
    }
   ],
   "source": [
    "type(f)"
   ]
  },
  {
   "cell_type": "code",
   "execution_count": 3,
   "metadata": {
    "collapsed": true
   },
   "outputs": [],
   "source": [
    "text=f.read()"
   ]
  },
  {
   "cell_type": "code",
   "execution_count": 10,
   "metadata": {
    "collapsed": false
   },
   "outputs": [
    {
     "data": {
      "text/plain": [
       "str"
      ]
     },
     "execution_count": 10,
     "metadata": {},
     "output_type": "execute_result"
    }
   ],
   "source": [
    "type(text)"
   ]
  },
  {
   "cell_type": "code",
   "execution_count": 3,
   "metadata": {
    "collapsed": true
   },
   "outputs": [],
   "source": [
    "import glob, os"
   ]
  },
  {
   "cell_type": "code",
   "execution_count": 4,
   "metadata": {
    "collapsed": true
   },
   "outputs": [],
   "source": [
    "path=\"/Users/yumeng.zou/Documents/shakespeare/*.txt\""
   ]
  },
  {
   "cell_type": "code",
   "execution_count": 5,
   "metadata": {
    "collapsed": false
   },
   "outputs": [],
   "source": [
    "filenames=glob.glob(path)"
   ]
  },
  {
   "cell_type": "code",
   "execution_count": 6,
   "metadata": {
    "collapsed": true
   },
   "outputs": [],
   "source": [
    "def tokenize(rawstr):\n",
    "    list=rawstr.split()\n",
    "    ans=[s.lower().strip(\"?.,;!\") for s in list] ## list transformation\n",
    "    return ans"
   ]
  },
  {
   "cell_type": "code",
   "execution_count": 7,
   "metadata": {
    "collapsed": false
   },
   "outputs": [],
   "source": [
    "corpus=[]\n",
    "for f in filenames:\n",
    "    text=open(f,'r').read()\n",
    "    text=tokenize(text)\n",
    "    corpus.append(text)\n",
    "## text becomes a list of strings, corpus is a list of list"
   ]
  },
  {
   "cell_type": "code",
   "execution_count": 18,
   "metadata": {
    "collapsed": false
   },
   "outputs": [
    {
     "name": "stdout",
     "output_type": "stream",
     "text": [
      "['so', 'hung', 'open', 'as', 'i', 'in', 'nay', 'as', 'now', 'proceed', 'before', 'you', \"who's\", 'hence', 'o', 'i', 'now', 'i', 'old', 'now', 'let', 'when', 'escalus', 'in', 'sir', 'i', 'tush', 'two', \"i'll\", 'boatswain', 'good', 'noble', 'in', 'if', 'cease', 'if']\n"
     ]
    }
   ],
   "source": [
    "print [play[0] for play in corpus]"
   ]
  },
  {
   "cell_type": "code",
   "execution_count": 29,
   "metadata": {
    "collapsed": true
   },
   "outputs": [],
   "source": [
    "corpuslstrans=[tokenize(open(f,'r').read()) for f in filenames]"
   ]
  },
  {
   "cell_type": "code",
   "execution_count": 20,
   "metadata": {
    "collapsed": false
   },
   "outputs": [
    {
     "name": "stdout",
     "output_type": "stream",
     "text": [
      "['won', 'realm', 'queen', 'befall', 'joy', 'hearts', 'solemnity', 'farewell', 'amends', 'another', 'assist', 'peace', 'shoot', 'day', 'take', 'clap', 'true', 'long', 'bier', 'amen', 'way', 'scone', 'know', 'ring', 'ford', 'pipers', 'relate', 'romeo', 'so', 'free', 'strike', 'ruinate', 'diseases', 'day', 'happiness', 'away']\n"
     ]
    }
   ],
   "source": [
    "print [j[-1] for j in corpuslstrans]"
   ]
  },
  {
   "cell_type": "code",
   "execution_count": 8,
   "metadata": {
    "collapsed": false
   },
   "outputs": [],
   "source": [
    "llength=[len(play) for play in corpus]"
   ]
  },
  {
   "cell_type": "code",
   "execution_count": 32,
   "metadata": {
    "collapsed": false
   },
   "outputs": [
    {
     "data": {
      "text/plain": [
       "[23910,\n",
       " 20516,\n",
       " 25713,\n",
       " 24415,\n",
       " 23279,\n",
       " 22551,\n",
       " 23681,\n",
       " 21283,\n",
       " 16046,\n",
       " 14326,\n",
       " 26471,\n",
       " 26651,\n",
       " 29506,\n",
       " 19097,\n",
       " 25565,\n",
       " 23437,\n",
       " 20373,\n",
       " 25243,\n",
       " 21790,\n",
       " 28308,\n",
       " 20971,\n",
       " 16414,\n",
       " 21262,\n",
       " 20923,\n",
       " 21034,\n",
       " 20749,\n",
       " 25749,\n",
       " 23868,\n",
       " 20394,\n",
       " 16008,\n",
       " 17710,\n",
       " 19803,\n",
       " 25448,\n",
       " 19395,\n",
       " 16856,\n",
       " 24498]"
      ]
     },
     "execution_count": 32,
     "metadata": {},
     "output_type": "execute_result"
    }
   ],
   "source": [
    "llength"
   ]
  },
  {
   "cell_type": "code",
   "execution_count": 26,
   "metadata": {
    "collapsed": false
   },
   "outputs": [
    {
     "data": {
      "text/plain": [
       "('/Users/yumeng.zou/Documents/shakespeare', '1_king_henry_iv.txt')"
      ]
     },
     "execution_count": 26,
     "metadata": {},
     "output_type": "execute_result"
    }
   ],
   "source": [
    "os.path.split(filenames[0])"
   ]
  },
  {
   "cell_type": "code",
   "execution_count": 10,
   "metadata": {
    "collapsed": false
   },
   "outputs": [],
   "source": [
    "title=[os.path.split(f)[1] for f in filenames]"
   ]
  },
  {
   "cell_type": "code",
   "execution_count": 11,
   "metadata": {
    "collapsed": false
   },
   "outputs": [
    {
     "data": {
      "text/plain": [
       "['1_king_henry_iv.txt',\n",
       " '1_king_henry_vi.txt',\n",
       " '2_king_henry_iv.txt',\n",
       " '2_king_henry_vi.txt',\n",
       " '3_king_henry_vi.txt',\n",
       " \"all's_well_that_ends_well.txt\",\n",
       " 'antony_and_cleopatra.txt',\n",
       " 'as_you_like_it.txt',\n",
       " \"a_midsummer_night's_dream.txt\",\n",
       " 'comedy_of_errors.txt',\n",
       " 'coriolanus.txt',\n",
       " 'cymbeline.txt',\n",
       " 'hamlet.txt',\n",
       " 'julius_caesar.txt',\n",
       " 'king_henry_v.txt',\n",
       " 'king_henry_viii.txt',\n",
       " 'king_john.txt',\n",
       " 'king_lear.txt',\n",
       " 'king_richard_ii.txt',\n",
       " 'king_richard_iii.txt',\n",
       " \"love's_labours_lost.txt\",\n",
       " 'macbeth.txt',\n",
       " 'measure_for_measure.txt',\n",
       " 'merchant_of_venice.txt',\n",
       " 'merry_wives_of_windsor.txt',\n",
       " 'much_ado_about_nothing.txt',\n",
       " 'othello.txt',\n",
       " 'romeo_and_juliet.txt',\n",
       " 'taming_of_the_shrew.txt',\n",
       " 'tempest.txt',\n",
       " 'timon_of_athens.txt',\n",
       " 'titus_andronicus.txt',\n",
       " 'troilus_and_cressida.txt',\n",
       " 'twelfth_night.txt',\n",
       " 'two_gentlemen_of_verona.txt',\n",
       " \"winter's_tale.txt\"]"
      ]
     },
     "execution_count": 11,
     "metadata": {},
     "output_type": "execute_result"
    }
   ],
   "source": [
    "title"
   ]
  },
  {
   "cell_type": "code",
   "execution_count": 13,
   "metadata": {
    "collapsed": false
   },
   "outputs": [
    {
     "name": "stdout",
     "output_type": "stream",
     "text": [
      "/Users/yumeng.zou/Documents/shakespeare\\1_king_henry_iv.txt 23910\n",
      "/Users/yumeng.zou/Documents/shakespeare\\1_king_henry_vi.txt 20516\n",
      "/Users/yumeng.zou/Documents/shakespeare\\2_king_henry_iv.txt 25713\n",
      "/Users/yumeng.zou/Documents/shakespeare\\2_king_henry_vi.txt 24415\n",
      "/Users/yumeng.zou/Documents/shakespeare\\3_king_henry_vi.txt 23279\n",
      "/Users/yumeng.zou/Documents/shakespeare\\all's_well_that_ends_well.txt 22551\n",
      "/Users/yumeng.zou/Documents/shakespeare\\antony_and_cleopatra.txt 23681\n",
      "/Users/yumeng.zou/Documents/shakespeare\\as_you_like_it.txt 21283\n",
      "/Users/yumeng.zou/Documents/shakespeare\\a_midsummer_night's_dream.txt 16046\n",
      "/Users/yumeng.zou/Documents/shakespeare\\comedy_of_errors.txt 14326\n",
      "/Users/yumeng.zou/Documents/shakespeare\\coriolanus.txt 26471\n",
      "/Users/yumeng.zou/Documents/shakespeare\\cymbeline.txt 26651\n",
      "/Users/yumeng.zou/Documents/shakespeare\\hamlet.txt 29506\n",
      "/Users/yumeng.zou/Documents/shakespeare\\julius_caesar.txt 19097\n",
      "/Users/yumeng.zou/Documents/shakespeare\\king_henry_v.txt 25565\n",
      "/Users/yumeng.zou/Documents/shakespeare\\king_henry_viii.txt 23437\n",
      "/Users/yumeng.zou/Documents/shakespeare\\king_john.txt 20373\n",
      "/Users/yumeng.zou/Documents/shakespeare\\king_lear.txt 25243\n",
      "/Users/yumeng.zou/Documents/shakespeare\\king_richard_ii.txt 21790\n",
      "/Users/yumeng.zou/Documents/shakespeare\\king_richard_iii.txt 28308\n",
      "/Users/yumeng.zou/Documents/shakespeare\\love's_labours_lost.txt 20971\n",
      "/Users/yumeng.zou/Documents/shakespeare\\macbeth.txt 16414\n",
      "/Users/yumeng.zou/Documents/shakespeare\\measure_for_measure.txt 21262\n",
      "/Users/yumeng.zou/Documents/shakespeare\\merchant_of_venice.txt 20923\n",
      "/Users/yumeng.zou/Documents/shakespeare\\merry_wives_of_windsor.txt 21034\n",
      "/Users/yumeng.zou/Documents/shakespeare\\much_ado_about_nothing.txt 20749\n",
      "/Users/yumeng.zou/Documents/shakespeare\\othello.txt 25749\n",
      "/Users/yumeng.zou/Documents/shakespeare\\romeo_and_juliet.txt 23868\n",
      "/Users/yumeng.zou/Documents/shakespeare\\taming_of_the_shrew.txt 20394\n",
      "/Users/yumeng.zou/Documents/shakespeare\\tempest.txt 16008\n",
      "/Users/yumeng.zou/Documents/shakespeare\\timon_of_athens.txt 17710\n",
      "/Users/yumeng.zou/Documents/shakespeare\\titus_andronicus.txt 19803\n",
      "/Users/yumeng.zou/Documents/shakespeare\\troilus_and_cressida.txt 25448\n",
      "/Users/yumeng.zou/Documents/shakespeare\\twelfth_night.txt 19395\n",
      "/Users/yumeng.zou/Documents/shakespeare\\two_gentlemen_of_verona.txt 16856\n",
      "/Users/yumeng.zou/Documents/shakespeare\\winter's_tale.txt 24498\n"
     ]
    }
   ],
   "source": [
    "for i,play in enumerate(corpus):\n",
    "    print filenames[i], len(play)"
   ]
  },
  {
   "cell_type": "code",
   "execution_count": 14,
   "metadata": {
    "collapsed": true
   },
   "outputs": [],
   "source": [
    "match=zip(title,llength)"
   ]
  },
  {
   "cell_type": "code",
   "execution_count": 15,
   "metadata": {
    "collapsed": false
   },
   "outputs": [
    {
     "data": {
      "text/plain": [
       "[('1_king_henry_iv.txt', 23910),\n",
       " ('1_king_henry_vi.txt', 20516),\n",
       " ('2_king_henry_iv.txt', 25713),\n",
       " ('2_king_henry_vi.txt', 24415),\n",
       " ('3_king_henry_vi.txt', 23279),\n",
       " (\"all's_well_that_ends_well.txt\", 22551),\n",
       " ('antony_and_cleopatra.txt', 23681),\n",
       " ('as_you_like_it.txt', 21283),\n",
       " (\"a_midsummer_night's_dream.txt\", 16046),\n",
       " ('comedy_of_errors.txt', 14326),\n",
       " ('coriolanus.txt', 26471),\n",
       " ('cymbeline.txt', 26651),\n",
       " ('hamlet.txt', 29506),\n",
       " ('julius_caesar.txt', 19097),\n",
       " ('king_henry_v.txt', 25565),\n",
       " ('king_henry_viii.txt', 23437),\n",
       " ('king_john.txt', 20373),\n",
       " ('king_lear.txt', 25243),\n",
       " ('king_richard_ii.txt', 21790),\n",
       " ('king_richard_iii.txt', 28308),\n",
       " (\"love's_labours_lost.txt\", 20971),\n",
       " ('macbeth.txt', 16414),\n",
       " ('measure_for_measure.txt', 21262),\n",
       " ('merchant_of_venice.txt', 20923),\n",
       " ('merry_wives_of_windsor.txt', 21034),\n",
       " ('much_ado_about_nothing.txt', 20749),\n",
       " ('othello.txt', 25749),\n",
       " ('romeo_and_juliet.txt', 23868),\n",
       " ('taming_of_the_shrew.txt', 20394),\n",
       " ('tempest.txt', 16008),\n",
       " ('timon_of_athens.txt', 17710),\n",
       " ('titus_andronicus.txt', 19803),\n",
       " ('troilus_and_cressida.txt', 25448),\n",
       " ('twelfth_night.txt', 19395),\n",
       " ('two_gentlemen_of_verona.txt', 16856),\n",
       " (\"winter's_tale.txt\", 24498)]"
      ]
     },
     "execution_count": 15,
     "metadata": {},
     "output_type": "execute_result"
    }
   ],
   "source": [
    "match"
   ]
  },
  {
   "cell_type": "code",
   "execution_count": 16,
   "metadata": {
    "collapsed": true
   },
   "outputs": [],
   "source": [
    "title=[t[:-4] for t in title]"
   ]
  },
  {
   "cell_type": "code",
   "execution_count": 17,
   "metadata": {
    "collapsed": false
   },
   "outputs": [
    {
     "data": {
      "text/plain": [
       "['1_king_henry_iv',\n",
       " '1_king_henry_vi',\n",
       " '2_king_henry_iv',\n",
       " '2_king_henry_vi',\n",
       " '3_king_henry_vi',\n",
       " \"all's_well_that_ends_well\",\n",
       " 'antony_and_cleopatra',\n",
       " 'as_you_like_it',\n",
       " \"a_midsummer_night's_dream\",\n",
       " 'comedy_of_errors',\n",
       " 'coriolanus',\n",
       " 'cymbeline',\n",
       " 'hamlet',\n",
       " 'julius_caesar',\n",
       " 'king_henry_v',\n",
       " 'king_henry_viii',\n",
       " 'king_john',\n",
       " 'king_lear',\n",
       " 'king_richard_ii',\n",
       " 'king_richard_iii',\n",
       " \"love's_labours_lost\",\n",
       " 'macbeth',\n",
       " 'measure_for_measure',\n",
       " 'merchant_of_venice',\n",
       " 'merry_wives_of_windsor',\n",
       " 'much_ado_about_nothing',\n",
       " 'othello',\n",
       " 'romeo_and_juliet',\n",
       " 'taming_of_the_shrew',\n",
       " 'tempest',\n",
       " 'timon_of_athens',\n",
       " 'titus_andronicus',\n",
       " 'troilus_and_cressida',\n",
       " 'twelfth_night',\n",
       " 'two_gentlemen_of_verona',\n",
       " \"winter's_tale\"]"
      ]
     },
     "execution_count": 17,
     "metadata": {},
     "output_type": "execute_result"
    }
   ],
   "source": [
    "title"
   ]
  },
  {
   "cell_type": "code",
   "execution_count": 18,
   "metadata": {
    "collapsed": false
   },
   "outputs": [
    {
     "name": "stdout",
     "output_type": "stream",
     "text": [
      "1_king_henry_iv 23910\n",
      "1_king_henry_vi 20516\n",
      "2_king_henry_iv 25713\n",
      "2_king_henry_vi 24415\n",
      "3_king_henry_vi 23279\n",
      "all's_well_that_ends_well 22551\n",
      "antony_and_cleopatra 23681\n",
      "as_you_like_it 21283\n",
      "a_midsummer_night's_dream 16046\n",
      "comedy_of_errors 14326\n",
      "coriolanus 26471\n",
      "cymbeline 26651\n",
      "hamlet 29506\n",
      "julius_caesar 19097\n",
      "king_henry_v 25565\n",
      "king_henry_viii 23437\n",
      "king_john 20373\n",
      "king_lear 25243\n",
      "king_richard_ii 21790\n",
      "king_richard_iii 28308\n",
      "love's_labours_lost 20971\n",
      "macbeth 16414\n",
      "measure_for_measure 21262\n",
      "merchant_of_venice 20923\n",
      "merry_wives_of_windsor 21034\n",
      "much_ado_about_nothing 20749\n",
      "othello 25749\n",
      "romeo_and_juliet 23868\n",
      "taming_of_the_shrew 20394\n",
      "tempest 16008\n",
      "timon_of_athens 17710\n",
      "titus_andronicus 19803\n",
      "troilus_and_cressida 25448\n",
      "twelfth_night 19395\n",
      "two_gentlemen_of_verona 16856\n",
      "winter's_tale 24498\n"
     ]
    }
   ],
   "source": [
    "for i, l in enumerate(llength):\n",
    "    print title[i], l"
   ]
  },
  {
   "cell_type": "code",
   "execution_count": 19,
   "metadata": {
    "collapsed": false
   },
   "outputs": [
    {
     "data": {
      "text/plain": [
       "enumerate"
      ]
     },
     "execution_count": 19,
     "metadata": {},
     "output_type": "execute_result"
    }
   ],
   "source": [
    "type(enumerate(llength))"
   ]
  },
  {
   "cell_type": "code",
   "execution_count": 21,
   "metadata": {
    "collapsed": false
   },
   "outputs": [
    {
     "data": {
      "text/plain": [
       "[(0, '1_king_henry_iv'),\n",
       " (1, '1_king_henry_vi'),\n",
       " (2, '2_king_henry_iv'),\n",
       " (3, '2_king_henry_vi'),\n",
       " (4, '3_king_henry_vi'),\n",
       " (5, \"all's_well_that_ends_well\"),\n",
       " (6, 'antony_and_cleopatra'),\n",
       " (7, 'as_you_like_it'),\n",
       " (8, \"a_midsummer_night's_dream\"),\n",
       " (9, 'comedy_of_errors'),\n",
       " (10, 'coriolanus'),\n",
       " (11, 'cymbeline'),\n",
       " (12, 'hamlet'),\n",
       " (13, 'julius_caesar'),\n",
       " (14, 'king_henry_v'),\n",
       " (15, 'king_henry_viii'),\n",
       " (16, 'king_john'),\n",
       " (17, 'king_lear'),\n",
       " (18, 'king_richard_ii'),\n",
       " (19, 'king_richard_iii'),\n",
       " (20, \"love's_labours_lost\"),\n",
       " (21, 'macbeth'),\n",
       " (22, 'measure_for_measure'),\n",
       " (23, 'merchant_of_venice'),\n",
       " (24, 'merry_wives_of_windsor'),\n",
       " (25, 'much_ado_about_nothing'),\n",
       " (26, 'othello'),\n",
       " (27, 'romeo_and_juliet'),\n",
       " (28, 'taming_of_the_shrew'),\n",
       " (29, 'tempest'),\n",
       " (30, 'timon_of_athens'),\n",
       " (31, 'titus_andronicus'),\n",
       " (32, 'troilus_and_cressida'),\n",
       " (33, 'twelfth_night'),\n",
       " (34, 'two_gentlemen_of_verona'),\n",
       " (35, \"winter's_tale\")]"
      ]
     },
     "execution_count": 21,
     "metadata": {},
     "output_type": "execute_result"
    }
   ],
   "source": [
    "list(enumerate(title))"
   ]
  },
  {
   "cell_type": "code",
   "execution_count": null,
   "metadata": {
    "collapsed": true
   },
   "outputs": [],
   "source": []
  }
 ],
 "metadata": {
  "kernelspec": {
   "display_name": "Python 2",
   "language": "python",
   "name": "python2"
  },
  "language_info": {
   "codemirror_mode": {
    "name": "ipython",
    "version": 2
   },
   "file_extension": ".py",
   "mimetype": "text/x-python",
   "name": "python",
   "nbconvert_exporter": "python",
   "pygments_lexer": "ipython2",
   "version": "2.7.13"
  }
 },
 "nbformat": 4,
 "nbformat_minor": 2
}
