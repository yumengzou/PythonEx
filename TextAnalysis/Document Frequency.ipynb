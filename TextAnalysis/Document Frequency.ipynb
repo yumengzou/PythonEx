{
 "cells": [
  {
   "cell_type": "code",
   "execution_count": 1,
   "metadata": {
    "collapsed": true
   },
   "outputs": [],
   "source": [
    "def tokenize(rawstr):\n",
    "    list=rawstr.split()\n",
    "    punctuations=\"?.,;\\/!'':-\"\n",
    "    ans=[s.lower().strip(punctuations) for s in list] ## list transformation\n",
    "    return ans"
   ]
  },
  {
   "cell_type": "code",
   "execution_count": 2,
   "metadata": {
    "collapsed": true
   },
   "outputs": [],
   "source": [
    "def doc_freq(path):\n",
    "    \n",
    "    ## build corpus: list of list of strings\n",
    "    import glob\n",
    "    filenames=glob.glob(path)\n",
    "    corpus=[tokenize(open(f,'r').read()) for f in filenames]\n",
    "    \n",
    "    ## create dictionary with document frequency\n",
    "    doc_freq={}\n",
    "    for text in corpus:\n",
    "        text=set(text) ## set() takes a list and return a set of unique values\n",
    "        for wd in text:\n",
    "            if wd in doc_freq.keys():\n",
    "                doc_freq[wd]+=1\n",
    "            else:\n",
    "                doc_freq[wd]=1\n",
    "                    \n",
    "    return doc_freq"
   ]
  },
  {
   "cell_type": "code",
   "execution_count": 3,
   "metadata": {
    "collapsed": true
   },
   "outputs": [],
   "source": [
    "path=\"/Users/yumeng.zou/Documents/shakespeare/*.txt\""
   ]
  },
  {
   "cell_type": "code",
   "execution_count": 4,
   "metadata": {
    "collapsed": false
   },
   "outputs": [],
   "source": [
    "dict=doc_freq(path)"
   ]
  },
  {
   "cell_type": "code",
   "execution_count": 5,
   "metadata": {
    "collapsed": false
   },
   "outputs": [
    {
     "name": "stdout",
     "output_type": "stream",
     "text": [
      "36\n"
     ]
    }
   ],
   "source": [
    "print dict['the']"
   ]
  },
  {
   "cell_type": "code",
   "execution_count": 6,
   "metadata": {
    "collapsed": false
   },
   "outputs": [
    {
     "name": "stdout",
     "output_type": "stream",
     "text": [
      "20\n"
     ]
    }
   ],
   "source": [
    "print dict['tremble']"
   ]
  },
  {
   "cell_type": "code",
   "execution_count": 7,
   "metadata": {
    "collapsed": false
   },
   "outputs": [
    {
     "name": "stdout",
     "output_type": "stream",
     "text": [
      "7\n"
     ]
    }
   ],
   "source": [
    "print dict['tumble']"
   ]
  },
  {
   "cell_type": "code",
   "execution_count": 8,
   "metadata": {
    "collapsed": false
   },
   "outputs": [
    {
     "name": "stdout",
     "output_type": "stream",
     "text": [
      "31\n"
     ]
    }
   ],
   "source": [
    "print dict['rage']"
   ]
  },
  {
   "cell_type": "code",
   "execution_count": 9,
   "metadata": {
    "collapsed": false
   },
   "outputs": [
    {
     "name": "stdout",
     "output_type": "stream",
     "text": [
      "36\n"
     ]
    }
   ],
   "source": [
    "print dict['love']"
   ]
  },
  {
   "cell_type": "code",
   "execution_count": 10,
   "metadata": {
    "collapsed": false
   },
   "outputs": [
    {
     "name": "stdout",
     "output_type": "stream",
     "text": [
      "3\n"
     ]
    }
   ],
   "source": [
    "print dict['jelly']"
   ]
  },
  {
   "cell_type": "code",
   "execution_count": 4,
   "metadata": {
    "collapsed": true
   },
   "outputs": [],
   "source": [
    "def text_freq(path):\n",
    "    \n",
    "    ## build corpus: list of list of strings\n",
    "    import glob\n",
    "    filenames=glob.glob(path)\n",
    "    corpus=[tokenize(open(f,'r').read()) for f in filenames]\n",
    "    \n",
    "    ## build dictionary of tokens\n",
    "    tf={}\n",
    "    for text in corpus:\n",
    "        for token in text:\n",
    "            if token in tf:\n",
    "                tf[token]+=1\n",
    "            else:\n",
    "                tf[token]=1\n",
    "    return tf"
   ]
  },
  {
   "cell_type": "code",
   "execution_count": 5,
   "metadata": {
    "collapsed": true
   },
   "outputs": [],
   "source": [
    "path1=\"/Users/yumeng.zou/Documents/shakespeare/macbeth.txt\""
   ]
  },
  {
   "cell_type": "code",
   "execution_count": 29,
   "metadata": {
    "collapsed": false
   },
   "outputs": [],
   "source": [
    "tfmac=text_freq(path1)"
   ]
  },
  {
   "cell_type": "code",
   "execution_count": 30,
   "metadata": {
    "collapsed": false
   },
   "outputs": [],
   "source": [
    "tfmac=sorted(tfmac.items(), reverse=True, key=lambda x:x[1])"
   ]
  },
  {
   "cell_type": "code",
   "execution_count": 31,
   "metadata": {
    "collapsed": false
   },
   "outputs": [],
   "source": [
    "wd,freq=zip(*tfmac[100:200])"
   ]
  },
  {
   "cell_type": "code",
   "execution_count": 32,
   "metadata": {
    "collapsed": false
   },
   "outputs": [
    {
     "name": "stdout",
     "output_type": "stream",
     "text": [
      "('go', 'out', 'too', 'thane', 'give', 'can', 'such', 'nor', 'those', 'most', 'look', 'does', 'things', 'blood', 'been', 'night', 'heart', 'these', 'banquo', 'before', 'hand', 'cawdor', 'nature', 'till', 'cannot', 'death', 'again', 'love', 'still', 'she', 'has', 'way', 'hear', 'art', 'both', 'day', 'life', 'take', 'show', 'ay', 'some', 'though', 'hail', 'worthy', 'own', 'every', 'men', 'macduff', 'down', 'poor', 'put', 'nothing', 'strange', 'deed', 'heaven', 'whose', 'god', 'against', 'air', 'dead', 'father', 'bloody', 'name', 'without', 'could', 'thought', 'other', 'each', \"there's\", 'never', 'much', 'sword', 'think', 'dare', 'wife', 'none', 'pray', 'duncan', 'made', 'ere', 'keep', 'new', 'leave', 'only', 'fly', 'comes', 'noble', 'scotland', 'into', 'hands', 'thus', 'about', 'even', 'hold', 'welcome', 'live', 'wood', 'first', 'eyes', 'myself')\n"
     ]
    }
   ],
   "source": [
    "print wd"
   ]
  },
  {
   "cell_type": "code",
   "execution_count": 6,
   "metadata": {
    "collapsed": false
   },
   "outputs": [],
   "source": [
    "def sigwd (flpath, crpath):\n",
    "    \n",
    "    tf_dict=text_freq(flpath)\n",
    "    df_dict=doc_freq(crpath)\n",
    "    \n",
    "    import math\n",
    "    score={}\n",
    "    for wd in tf_dict.keys():\n",
    "        score[wd]=tf_dict[wd]*math.log(36.0/df_dict[wd])\n",
    "    \n",
    "    return score ## a dictionary of each word with a score tf/df"
   ]
  },
  {
   "cell_type": "code",
   "execution_count": 7,
   "metadata": {
    "collapsed": false
   },
   "outputs": [],
   "source": [
    "scored_wd=sigwd(path1,path)"
   ]
  },
  {
   "cell_type": "code",
   "execution_count": 8,
   "metadata": {
    "collapsed": true
   },
   "outputs": [],
   "source": [
    "scored_wd=sorted(scored_wd.items(),reverse=True,key=lambda x:x[1])"
   ]
  },
  {
   "cell_type": "code",
   "execution_count": 9,
   "metadata": {
    "collapsed": false
   },
   "outputs": [],
   "source": [
    "sig = [w for w,s in scored_wd]"
   ]
  },
  {
   "cell_type": "code",
   "execution_count": 10,
   "metadata": {
    "collapsed": false
   },
   "outputs": [
    {
     "name": "stdout",
     "output_type": "stream",
     "text": [
      "['macbeth', 'thane', 'banquo', 'cawdor', 'macduff', 'duncan', 'birnam', 'fleance', 'dunsinane', 'glamis', 'cauldron', 'malcolm', 'weird', 'scotland', 'thanes', 'donalbain', \"banquo's\", 'siward', 'daggers', 'knocking', \"tyrant's\", \"munch'd\", 'sundry', 'norweyan', 'scone', 'equivocator', \"duncan's\", 'fife', 'sisters', 'wood', 'bubble', 'does', 'hail', 'horror', 'gashes', 'kerns', 'newest', 'cling', 'avarice', 'alarum-bell', 'swearers', 'ingredients', 'nightgown', 'seyton', 's', 'sprites', 'rapt', 'boil', 'duties', 'doctor', 'hostess', 'grooms', 'cumberland', 'hums', 'norway', \"castle's\", \"brandish'd\", 'unfix', 'firstlings', 'holily', 'pillows', 'heath', 'sightless', 'bat', 'knock', 'applaud', 'owl', 'england', \"murder'd\", \"hecate's\", 'gin', 'leave-taking', 'rugged', 'scruples', 'hags', 'timely', \"supp'd\", 'summons', 'murders', 'english', 'kings', 'tyrant', 'accursed', 'knell', 'cousins', 'file', 'horrid', 'broad', 'sinks', 'sear', 'rubs', 'truths', 'station', 'frets', 'charmed', \"night's\", 'horrors', 'recoil', 'thick', \"life's\"]\n"
     ]
    }
   ],
   "source": [
    "print sig[:100]"
   ]
  },
  {
   "cell_type": "code",
   "execution_count": null,
   "metadata": {
    "collapsed": true
   },
   "outputs": [],
   "source": []
  }
 ],
 "metadata": {
  "kernelspec": {
   "display_name": "Python 2",
   "language": "python",
   "name": "python2"
  },
  "language_info": {
   "codemirror_mode": {
    "name": "ipython",
    "version": 2
   },
   "file_extension": ".py",
   "mimetype": "text/x-python",
   "name": "python",
   "nbconvert_exporter": "python",
   "pygments_lexer": "ipython2",
   "version": "2.7.13"
  }
 },
 "nbformat": 4,
 "nbformat_minor": 2
}
