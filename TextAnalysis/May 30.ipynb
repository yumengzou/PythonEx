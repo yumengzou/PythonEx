{
 "cells": [
  {
   "cell_type": "code",
   "execution_count": 1,
   "metadata": {
    "collapsed": true
   },
   "outputs": [],
   "source": [
    "def tokenize(rawstr):\n",
    "    list=rawstr.split()\n",
    "    punctuations=\"?.,;\\/!\"\n",
    "    ans=[s.lower().strip(punctuations) for s in list] ## list transformation\n",
    "    return ans"
   ]
  },
  {
   "cell_type": "code",
   "execution_count": 2,
   "metadata": {
    "collapsed": true
   },
   "outputs": [],
   "source": [
    "import glob, os"
   ]
  },
  {
   "cell_type": "code",
   "execution_count": 3,
   "metadata": {
    "collapsed": true
   },
   "outputs": [],
   "source": [
    "path=\"/Users/yumeng.zou/Documents/shakespeare/*.txt\""
   ]
  },
  {
   "cell_type": "code",
   "execution_count": 4,
   "metadata": {
    "collapsed": true
   },
   "outputs": [],
   "source": [
    "filenames=glob.glob(path) ## from the module glob, use the function glob"
   ]
  },
  {
   "cell_type": "code",
   "execution_count": 5,
   "metadata": {
    "collapsed": false
   },
   "outputs": [
    {
     "name": "stdout",
     "output_type": "stream",
     "text": [
      "<type 'list'>\n",
      "<type 'str'>\n"
     ]
    }
   ],
   "source": [
    "print type(filenames)\n",
    "print type(path)"
   ]
  },
  {
   "cell_type": "code",
   "execution_count": 6,
   "metadata": {
    "collapsed": false
   },
   "outputs": [],
   "source": [
    "corpus=[]\n",
    "for f in filenames:\n",
    "    text=open(f,'r').read() ## return a string\n",
    "    text=tokenize(text) ## return a list of strings\n",
    "    corpus.append(text) \n",
    "## corpus is a list of list"
   ]
  },
  {
   "cell_type": "code",
   "execution_count": 27,
   "metadata": {
    "collapsed": true
   },
   "outputs": [],
   "source": [
    "corpus=[tokenize(open(f,'r').read()) for f in filenames]"
   ]
  },
  {
   "cell_type": "code",
   "execution_count": 7,
   "metadata": {
    "collapsed": true
   },
   "outputs": [],
   "source": [
    "length=[len(play) for play in corpus]\n",
    "## word count"
   ]
  },
  {
   "cell_type": "code",
   "execution_count": 8,
   "metadata": {
    "collapsed": true
   },
   "outputs": [],
   "source": [
    "clean_filenames=[os.path.split(f)[1][:-4].replace(\"_\",\" \").capitalize() for f in filenames]"
   ]
  },
  {
   "cell_type": "code",
   "execution_count": 11,
   "metadata": {
    "collapsed": false
   },
   "outputs": [
    {
     "data": {
      "text/plain": [
       "['1 king henry iv',\n",
       " '1 king henry vi',\n",
       " '2 king henry iv',\n",
       " '2 king henry vi',\n",
       " '3 king henry vi',\n",
       " \"All's well that ends well\",\n",
       " 'Antony and cleopatra',\n",
       " 'As you like it',\n",
       " \"A midsummer night's dream\",\n",
       " 'Comedy of errors',\n",
       " 'Coriolanus',\n",
       " 'Cymbeline',\n",
       " 'Hamlet',\n",
       " 'Julius caesar',\n",
       " 'King henry v',\n",
       " 'King henry viii',\n",
       " 'King john',\n",
       " 'King lear',\n",
       " 'King richard ii',\n",
       " 'King richard iii',\n",
       " \"Love's labours lost\",\n",
       " 'Macbeth',\n",
       " 'Measure for measure',\n",
       " 'Merchant of venice',\n",
       " 'Merry wives of windsor',\n",
       " 'Much ado about nothing',\n",
       " 'Othello',\n",
       " 'Romeo and juliet',\n",
       " 'Taming of the shrew',\n",
       " 'Tempest',\n",
       " 'Timon of athens',\n",
       " 'Titus andronicus',\n",
       " 'Troilus and cressida',\n",
       " 'Twelfth night',\n",
       " 'Two gentlemen of verona',\n",
       " \"Winter's tale\"]"
      ]
     },
     "execution_count": 11,
     "metadata": {},
     "output_type": "execute_result"
    }
   ],
   "source": [
    "clean_filenames"
   ]
  },
  {
   "cell_type": "code",
   "execution_count": 12,
   "metadata": {
    "collapsed": false
   },
   "outputs": [
    {
     "data": {
      "text/plain": [
       "enumerate"
      ]
     },
     "execution_count": 12,
     "metadata": {},
     "output_type": "execute_result"
    }
   ],
   "source": [
    "type(enumerate(length))"
   ]
  },
  {
   "cell_type": "code",
   "execution_count": 13,
   "metadata": {
    "collapsed": false
   },
   "outputs": [
    {
     "name": "stdout",
     "output_type": "stream",
     "text": [
      "(0, 'q')\n",
      "(1, 'w')\n",
      "(2, 'r')\n",
      "(3, 't')\n"
     ]
    }
   ],
   "source": [
    "l=['q','w','r','t']\n",
    "for i in enumerate(l):\n",
    "    print i"
   ]
  },
  {
   "cell_type": "code",
   "execution_count": 14,
   "metadata": {
    "collapsed": false
   },
   "outputs": [
    {
     "name": "stdout",
     "output_type": "stream",
     "text": [
      "0 q\n",
      "1 w\n",
      "2 r\n",
      "3 t\n"
     ]
    }
   ],
   "source": [
    "for i,s in enumerate(l):\n",
    "    print i, s"
   ]
  },
  {
   "cell_type": "code",
   "execution_count": 15,
   "metadata": {
    "collapsed": false
   },
   "outputs": [
    {
     "name": "stdout",
     "output_type": "stream",
     "text": [
      "0 w viking\n",
      "1 q que\n"
     ]
    }
   ],
   "source": [
    "l=[('w','viking'),('q','que')]\n",
    "for i, (a,b) in enumerate(l):\n",
    "    print i, a, b"
   ]
  },
  {
   "cell_type": "code",
   "execution_count": 16,
   "metadata": {
    "collapsed": false
   },
   "outputs": [
    {
     "name": "stdout",
     "output_type": "stream",
     "text": [
      "1 king henry iv                23910\n",
      "1 king henry vi                20516\n",
      "2 king henry iv                25713\n",
      "2 king henry vi                24415\n",
      "3 king henry vi                23279\n",
      "All's well that ends well      22551\n",
      "Antony and cleopatra           23681\n",
      "As you like it                 21283\n",
      "A midsummer night's dream      16046\n",
      "Comedy of errors               14326\n",
      "Coriolanus                     26471\n",
      "Cymbeline                      26651\n",
      "Hamlet                         29506\n",
      "Julius caesar                  19097\n",
      "King henry v                   25565\n",
      "King henry viii                23437\n",
      "King john                      20373\n",
      "King lear                      25243\n",
      "King richard ii                21790\n",
      "King richard iii               28308\n",
      "Love's labours lost            20971\n",
      "Macbeth                        16414\n",
      "Measure for measure            21262\n",
      "Merchant of venice             20923\n",
      "Merry wives of windsor         21034\n",
      "Much ado about nothing         20749\n",
      "Othello                        25749\n",
      "Romeo and juliet               23868\n",
      "Taming of the shrew            20394\n",
      "Tempest                        16008\n",
      "Timon of athens                17710\n",
      "Titus andronicus               19803\n",
      "Troilus and cressida           25448\n",
      "Twelfth night                  19395\n",
      "Two gentlemen of verona        16856\n",
      "Winter's tale                  24498\n"
     ]
    }
   ],
   "source": [
    "for i,l in enumerate(length):\n",
    "    print \"{:<30} {}\".format(clean_filenames[i],l)\n",
    "## :<30 means that make sure the first item is at least 30 spaces long and starts from the left\n",
    "## string.format(item1, item2, ...) takes item as {} in the string and returns a new string"
   ]
  },
  {
   "cell_type": "code",
   "execution_count": 17,
   "metadata": {
    "collapsed": false
   },
   "outputs": [
    {
     "name": "stdout",
     "output_type": "stream",
     "text": [
      "The play 1 king henry iv has 23910 words\n",
      "The play 1 king henry vi has 20516 words\n",
      "The play 2 king henry iv has 25713 words\n",
      "The play 2 king henry vi has 24415 words\n",
      "The play 3 king henry vi has 23279 words\n",
      "The play All's well that ends well has 22551 words\n",
      "The play Antony and cleopatra has 23681 words\n",
      "The play As you like it has 21283 words\n",
      "The play A midsummer night's dream has 16046 words\n",
      "The play Comedy of errors has 14326 words\n",
      "The play Coriolanus has 26471 words\n",
      "The play Cymbeline has 26651 words\n",
      "The play Hamlet has 29506 words\n",
      "The play Julius caesar has 19097 words\n",
      "The play King henry v has 25565 words\n",
      "The play King henry viii has 23437 words\n",
      "The play King john has 20373 words\n",
      "The play King lear has 25243 words\n",
      "The play King richard ii has 21790 words\n",
      "The play King richard iii has 28308 words\n",
      "The play Love's labours lost has 20971 words\n",
      "The play Macbeth has 16414 words\n",
      "The play Measure for measure has 21262 words\n",
      "The play Merchant of venice has 20923 words\n",
      "The play Merry wives of windsor has 21034 words\n",
      "The play Much ado about nothing has 20749 words\n",
      "The play Othello has 25749 words\n",
      "The play Romeo and juliet has 23868 words\n",
      "The play Taming of the shrew has 20394 words\n",
      "The play Tempest has 16008 words\n",
      "The play Timon of athens has 17710 words\n",
      "The play Titus andronicus has 19803 words\n",
      "The play Troilus and cressida has 25448 words\n",
      "The play Twelfth night has 19395 words\n",
      "The play Two gentlemen of verona has 16856 words\n",
      "The play Winter's tale has 24498 words\n"
     ]
    }
   ],
   "source": [
    " for i,l in enumerate(length):\n",
    "    print \"The play {} has {} words\".format(clean_filenames[i],l)"
   ]
  },
  {
   "cell_type": "code",
   "execution_count": 19,
   "metadata": {
    "collapsed": false
   },
   "outputs": [
    {
     "name": "stdout",
     "output_type": "stream",
     "text": [
      "The play 1 king henry iv has 23910 words.\n",
      "The play 1 king henry vi has 20516 words.\n",
      "The play 2 king henry iv has 25713 words.\n",
      "The play 2 king henry vi has 24415 words.\n",
      "The play 3 king henry vi has 23279 words.\n",
      "The play All's well that ends well has 22551 words.\n",
      "The play Antony and cleopatra has 23681 words.\n",
      "The play As you like it has 21283 words.\n",
      "The play A midsummer night's dream has 16046 words.\n",
      "The play Comedy of errors has 14326 words.\n",
      "The play Coriolanus has 26471 words.\n",
      "The play Cymbeline has 26651 words.\n",
      "The play Hamlet has 29506 words.\n",
      "The play Julius caesar has 19097 words.\n",
      "The play King henry v has 25565 words.\n",
      "The play King henry viii has 23437 words.\n",
      "The play King john has 20373 words.\n",
      "The play King lear has 25243 words.\n",
      "The play King richard ii has 21790 words.\n",
      "The play King richard iii has 28308 words.\n",
      "The play Love's labours lost has 20971 words.\n",
      "The play Macbeth has 16414 words.\n",
      "The play Measure for measure has 21262 words.\n",
      "The play Merchant of venice has 20923 words.\n",
      "The play Merry wives of windsor has 21034 words.\n",
      "The play Much ado about nothing has 20749 words.\n",
      "The play Othello has 25749 words.\n",
      "The play Romeo and juliet has 23868 words.\n",
      "The play Taming of the shrew has 20394 words.\n",
      "The play Tempest has 16008 words.\n",
      "The play Timon of athens has 17710 words.\n",
      "The play Titus andronicus has 19803 words.\n",
      "The play Troilus and cressida has 25448 words.\n",
      "The play Twelfth night has 19395 words.\n",
      "The play Two gentlemen of verona has 16856 words.\n",
      "The play Winter's tale has 24498 words.\n"
     ]
    }
   ],
   "source": [
    "for i,l in enumerate(length):\n",
    "    print \"The play\", clean_filenames[i], \"has\", l, \"words.\""
   ]
  },
  {
   "cell_type": "code",
   "execution_count": 20,
   "metadata": {
    "collapsed": true
   },
   "outputs": [],
   "source": [
    "l=[2,4,5,1]"
   ]
  },
  {
   "cell_type": "code",
   "execution_count": 21,
   "metadata": {
    "collapsed": false
   },
   "outputs": [
    {
     "data": {
      "text/plain": [
       "[1, 2, 4, 5]"
      ]
     },
     "execution_count": 21,
     "metadata": {},
     "output_type": "execute_result"
    }
   ],
   "source": [
    "sorted(l)"
   ]
  },
  {
   "cell_type": "code",
   "execution_count": 22,
   "metadata": {
    "collapsed": false
   },
   "outputs": [
    {
     "data": {
      "text/plain": [
       "[('1 king henry iv', 23910),\n",
       " ('1 king henry vi', 20516),\n",
       " ('2 king henry iv', 25713),\n",
       " ('2 king henry vi', 24415),\n",
       " ('3 king henry vi', 23279),\n",
       " (\"A midsummer night's dream\", 16046),\n",
       " (\"All's well that ends well\", 22551),\n",
       " ('Antony and cleopatra', 23681),\n",
       " ('As you like it', 21283),\n",
       " ('Comedy of errors', 14326),\n",
       " ('Coriolanus', 26471),\n",
       " ('Cymbeline', 26651),\n",
       " ('Hamlet', 29506),\n",
       " ('Julius caesar', 19097),\n",
       " ('King henry v', 25565),\n",
       " ('King henry viii', 23437),\n",
       " ('King john', 20373),\n",
       " ('King lear', 25243),\n",
       " ('King richard ii', 21790),\n",
       " ('King richard iii', 28308),\n",
       " (\"Love's labours lost\", 20971),\n",
       " ('Macbeth', 16414),\n",
       " ('Measure for measure', 21262),\n",
       " ('Merchant of venice', 20923),\n",
       " ('Merry wives of windsor', 21034),\n",
       " ('Much ado about nothing', 20749),\n",
       " ('Othello', 25749),\n",
       " ('Romeo and juliet', 23868),\n",
       " ('Taming of the shrew', 20394),\n",
       " ('Tempest', 16008),\n",
       " ('Timon of athens', 17710),\n",
       " ('Titus andronicus', 19803),\n",
       " ('Troilus and cressida', 25448),\n",
       " ('Twelfth night', 19395),\n",
       " ('Two gentlemen of verona', 16856),\n",
       " (\"Winter's tale\", 24498)]"
      ]
     },
     "execution_count": 22,
     "metadata": {},
     "output_type": "execute_result"
    }
   ],
   "source": [
    "sorted(zip(clean_filenames,length))\n",
    "## sort by the first item\n",
    "## alphabetize it"
   ]
  },
  {
   "cell_type": "code",
   "execution_count": 26,
   "metadata": {
    "collapsed": true
   },
   "outputs": [],
   "source": [
    "def myzip(lst1,lst2):\n",
    "    if len(lst1)!=len(lst2):\n",
    "        print \"error\"\n",
    "        return\n",
    "    else:\n",
    "        ans=[(t,lst2[i]) for i,t in enumerate(lst1)]\n",
    "        return ans"
   ]
  },
  {
   "cell_type": "code",
   "execution_count": 27,
   "metadata": {
    "collapsed": false
   },
   "outputs": [
    {
     "data": {
      "text/plain": [
       "[('1 king henry iv', 23910),\n",
       " ('1 king henry vi', 20516),\n",
       " ('2 king henry iv', 25713),\n",
       " ('2 king henry vi', 24415),\n",
       " ('3 king henry vi', 23279),\n",
       " (\"All's well that ends well\", 22551),\n",
       " ('Antony and cleopatra', 23681),\n",
       " ('As you like it', 21283),\n",
       " (\"A midsummer night's dream\", 16046),\n",
       " ('Comedy of errors', 14326),\n",
       " ('Coriolanus', 26471),\n",
       " ('Cymbeline', 26651),\n",
       " ('Hamlet', 29506),\n",
       " ('Julius caesar', 19097),\n",
       " ('King henry v', 25565),\n",
       " ('King henry viii', 23437),\n",
       " ('King john', 20373),\n",
       " ('King lear', 25243),\n",
       " ('King richard ii', 21790),\n",
       " ('King richard iii', 28308),\n",
       " (\"Love's labours lost\", 20971),\n",
       " ('Macbeth', 16414),\n",
       " ('Measure for measure', 21262),\n",
       " ('Merchant of venice', 20923),\n",
       " ('Merry wives of windsor', 21034),\n",
       " ('Much ado about nothing', 20749),\n",
       " ('Othello', 25749),\n",
       " ('Romeo and juliet', 23868),\n",
       " ('Taming of the shrew', 20394),\n",
       " ('Tempest', 16008),\n",
       " ('Timon of athens', 17710),\n",
       " ('Titus andronicus', 19803),\n",
       " ('Troilus and cressida', 25448),\n",
       " ('Twelfth night', 19395),\n",
       " ('Two gentlemen of verona', 16856),\n",
       " (\"Winter's tale\", 24498)]"
      ]
     },
     "execution_count": 27,
     "metadata": {},
     "output_type": "execute_result"
    }
   ],
   "source": [
    "myzip(clean_filenames,length)"
   ]
  },
  {
   "cell_type": "code",
   "execution_count": 28,
   "metadata": {
    "collapsed": false
   },
   "outputs": [
    {
     "name": "stdout",
     "output_type": "stream",
     "text": [
      "error\n"
     ]
    }
   ],
   "source": [
    "myzip(length,l)"
   ]
  },
  {
   "cell_type": "code",
   "execution_count": 29,
   "metadata": {
    "collapsed": false
   },
   "outputs": [
    {
     "data": {
      "text/plain": [
       "[(23910, 2), (20516, 4), (25713, 5), (24415, 1)]"
      ]
     },
     "execution_count": 29,
     "metadata": {},
     "output_type": "execute_result"
    }
   ],
   "source": [
    "zip(length,l)\n",
    "## equivalent to cbind()\n",
    "## automatically truncate to the shortest"
   ]
  },
  {
   "cell_type": "code",
   "execution_count": 30,
   "metadata": {
    "collapsed": false
   },
   "outputs": [
    {
     "data": {
      "text/plain": [
       "[(14326, 'Comedy of errors'),\n",
       " (16008, 'Tempest'),\n",
       " (16046, \"A midsummer night's dream\"),\n",
       " (16414, 'Macbeth'),\n",
       " (16856, 'Two gentlemen of verona'),\n",
       " (17710, 'Timon of athens'),\n",
       " (19097, 'Julius caesar'),\n",
       " (19395, 'Twelfth night'),\n",
       " (19803, 'Titus andronicus'),\n",
       " (20373, 'King john'),\n",
       " (20394, 'Taming of the shrew'),\n",
       " (20516, '1 king henry vi'),\n",
       " (20749, 'Much ado about nothing'),\n",
       " (20923, 'Merchant of venice'),\n",
       " (20971, \"Love's labours lost\"),\n",
       " (21034, 'Merry wives of windsor'),\n",
       " (21262, 'Measure for measure'),\n",
       " (21283, 'As you like it'),\n",
       " (21790, 'King richard ii'),\n",
       " (22551, \"All's well that ends well\"),\n",
       " (23279, '3 king henry vi'),\n",
       " (23437, 'King henry viii'),\n",
       " (23681, 'Antony and cleopatra'),\n",
       " (23868, 'Romeo and juliet'),\n",
       " (23910, '1 king henry iv'),\n",
       " (24415, '2 king henry vi'),\n",
       " (24498, \"Winter's tale\"),\n",
       " (25243, 'King lear'),\n",
       " (25448, 'Troilus and cressida'),\n",
       " (25565, 'King henry v'),\n",
       " (25713, '2 king henry iv'),\n",
       " (25749, 'Othello'),\n",
       " (26471, 'Coriolanus'),\n",
       " (26651, 'Cymbeline'),\n",
       " (28308, 'King richard iii'),\n",
       " (29506, 'Hamlet')]"
      ]
     },
     "execution_count": 30,
     "metadata": {},
     "output_type": "execute_result"
    }
   ],
   "source": [
    "sorted(zip(length,clean_filenames))"
   ]
  },
  {
   "cell_type": "code",
   "execution_count": 10,
   "metadata": {
    "collapsed": false
   },
   "outputs": [],
   "source": [
    "fn_by_len=sorted(zip(clean_filenames,length), reverse=True, key=lambda x:x[1])"
   ]
  },
  {
   "cell_type": "code",
   "execution_count": 11,
   "metadata": {
    "collapsed": false
   },
   "outputs": [
    {
     "name": "stdout",
     "output_type": "stream",
     "text": [
      "Hamlet                         29506\n",
      "King richard iii               28308\n",
      "Cymbeline                      26651\n",
      "Coriolanus                     26471\n",
      "Othello                        25749\n",
      "2 king henry iv                25713\n",
      "King henry v                   25565\n",
      "Troilus and cressida           25448\n",
      "King lear                      25243\n",
      "Winter's tale                  24498\n",
      "2 king henry vi                24415\n",
      "1 king henry iv                23910\n",
      "Romeo and juliet               23868\n",
      "Antony and cleopatra           23681\n",
      "King henry viii                23437\n",
      "3 king henry vi                23279\n",
      "All's well that ends well      22551\n",
      "King richard ii                21790\n",
      "As you like it                 21283\n",
      "Measure for measure            21262\n",
      "Merry wives of windsor         21034\n",
      "Love's labours lost            20971\n",
      "Merchant of venice             20923\n",
      "Much ado about nothing         20749\n",
      "1 king henry vi                20516\n",
      "Taming of the shrew            20394\n",
      "King john                      20373\n",
      "Titus andronicus               19803\n",
      "Twelfth night                  19395\n",
      "Julius caesar                  19097\n",
      "Timon of athens                17710\n",
      "Two gentlemen of verona        16856\n",
      "Macbeth                        16414\n",
      "A midsummer night's dream      16046\n",
      "Tempest                        16008\n",
      "Comedy of errors               14326\n"
     ]
    }
   ],
   "source": [
    "for fn, l in fn_by_len:\n",
    "    print \"{:<30} {}\".format(fn,l)"
   ]
  },
  {
   "cell_type": "code",
   "execution_count": 12,
   "metadata": {
    "collapsed": true
   },
   "outputs": [],
   "source": [
    "s=\"to be or not to be\""
   ]
  },
  {
   "cell_type": "code",
   "execution_count": 14,
   "metadata": {
    "collapsed": true
   },
   "outputs": [],
   "source": [
    "s=tokenize(s)"
   ]
  },
  {
   "cell_type": "code",
   "execution_count": 15,
   "metadata": {
    "collapsed": false
   },
   "outputs": [
    {
     "data": {
      "text/plain": [
       "['to', 'be', 'or', 'not', 'to', 'be']"
      ]
     },
     "execution_count": 15,
     "metadata": {},
     "output_type": "execute_result"
    }
   ],
   "source": [
    "s"
   ]
  },
  {
   "cell_type": "code",
   "execution_count": 19,
   "metadata": {
    "collapsed": false
   },
   "outputs": [
    {
     "name": "stdout",
     "output_type": "stream",
     "text": [
      "{'not': 1, 'to': 2, 'or': 1, 'be': 2}\n"
     ]
    }
   ],
   "source": [
    "tokens={} ## initialize a dictionary\n",
    "for t in s:\n",
    "    if t not in tokens:\n",
    "        tokens[t]=1 ## base\n",
    "    else:\n",
    "        tokens[t]=tokens[t]+1 ## base\n",
    "print tokens"
   ]
  },
  {
   "cell_type": "code",
   "execution_count": 16,
   "metadata": {
    "collapsed": true
   },
   "outputs": [],
   "source": [
    "def numrecur1(corpus):\n",
    "    tokens={}\n",
    "    for lst in corpus:\n",
    "        for s in lst:\n",
    "            if s not in tokens:\n",
    "                tokens[s]=1 ## base\n",
    "            else:\n",
    "                tokens[s]=tokens[s]+1 ## base\n",
    "    return tokens"
   ]
  },
  {
   "cell_type": "code",
   "execution_count": 19,
   "metadata": {
    "collapsed": false
   },
   "outputs": [],
   "source": [
    "freq=sorted(numrecur1(corpus).items(),reverse=True,key=lambda x:x[1])\n",
    "## dict.items() turn a dictionary into a list of tuples"
   ]
  },
  {
   "cell_type": "code",
   "execution_count": 12,
   "metadata": {
    "collapsed": true
   },
   "outputs": [],
   "source": [
    "%matplotlib inline\n",
    "import matplotlib.pyplot as plt"
   ]
  },
  {
   "cell_type": "code",
   "execution_count": 22,
   "metadata": {
    "collapsed": false
   },
   "outputs": [],
   "source": [
    "x=[]\n",
    "y=[]\n",
    "for i, tp in enumerate(freq):\n",
    "    x.append(i)\n",
    "    y.append(tp[1])"
   ]
  },
  {
   "cell_type": "code",
   "execution_count": 26,
   "metadata": {
    "collapsed": false
   },
   "outputs": [
    {
     "data": {
      "text/plain": [
       "[<matplotlib.lines.Line2D at 0xac312e8>]"
      ]
     },
     "execution_count": 26,
     "metadata": {},
     "output_type": "execute_result"
    },
    {
     "data": {
      "image/png": "[encoded data removed]",
      "text/plain": [
       "<matplotlib.figure.Figure at 0xa523668>"
      ]
     },
     "metadata": {},
     "output_type": "display_data"
    }
   ],
   "source": [
    "plt.plot(x,y)"
   ]
  },
  {
   "cell_type": "code",
   "execution_count": null,
   "metadata": {
    "collapsed": true
   },
   "outputs": [],
   "source": []
  }
 ],
 "metadata": {
  "kernelspec": {
   "display_name": "Python 2",
   "language": "python",
   "name": "python2"
  },
  "language_info": {
   "codemirror_mode": {
    "name": "ipython",
    "version": 2
   },
   "file_extension": ".py",
   "mimetype": "text/x-python",
   "name": "python",
   "nbconvert_exporter": "python",
   "pygments_lexer": "ipython2",
   "version": "2.7.13"
  }
 },
 "nbformat": 4,
 "nbformat_minor": 2
}
