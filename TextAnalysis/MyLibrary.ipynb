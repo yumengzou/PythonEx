{
 "cells": [
  {
   "cell_type": "code",
   "execution_count": 8,
   "metadata": {
    "collapsed": true
   },
   "outputs": [],
   "source": [
    "import glob, os, re, math\n",
    "import matplotlib.pyplot as plt\n",
    "import numpy as np\n",
    "%matplotlib inline"
   ]
  },
  {
   "cell_type": "code",
   "execution_count": 2,
   "metadata": {
    "collapsed": true
   },
   "outputs": [],
   "source": [
    "def tokenize(text):\n",
    "    ans=text.split()\n",
    "    punctuations=\",.?!\\\"\\':;-\"\n",
    "    ans=[s.strip(punctuations).lower() for s in ans]\n",
    "    return ans"
   ]
  },
  {
   "cell_type": "code",
   "execution_count": 4,
   "metadata": {
    "collapsed": true
   },
   "outputs": [],
   "source": [
    "def chunk(lst, n, overlap=False):\n",
    "    if overlap==False:\n",
    "        overlap=n\n",
    "    index=range(0,len(lst),overlap)\n",
    "    ans=[lst[i:i+n] for i in index]\n",
    "    return ans"
   ]
  },
  {
   "cell_type": "code",
   "execution_count": 1,
   "metadata": {
    "collapsed": true
   },
   "outputs": [],
   "source": [
    "def text_freq(path):\n",
    "    \n",
    "    ## create a corpus\n",
    "    filenames=glob.glob(path)\n",
    "    corpus=[tokenize(open(f,'r').read()) for f in filenames]\n",
    "    \n",
    "    ## build a dictionary of tokens\n",
    "    tf={}\n",
    "    for text in corpus:\n",
    "        for token in text:\n",
    "            if token in tf:\n",
    "                tf[token]+=1\n",
    "            else:\n",
    "                tf[token]=1\n",
    "    return tf"
   ]
  },
  {
   "cell_type": "code",
   "execution_count": 6,
   "metadata": {
    "collapsed": true
   },
   "outputs": [],
   "source": [
    "def doc_freq(path):\n",
    "    \n",
    "    ## build corpus: list of list of strings\n",
    "    filenames=glob.glob(path)\n",
    "    corpus=[tokenize(open(f,'r').read()) for f in filenames]\n",
    "    \n",
    "    ## create dictionary with document frequency\n",
    "    doc_freq={}\n",
    "    for text in corpus:\n",
    "        text=set(text) \n",
    "        for wd in text:\n",
    "            if wd in doc_freq.keys():\n",
    "                doc_freq[wd]+=1\n",
    "            else:\n",
    "                doc_freq[wd]=1\n",
    "                    \n",
    "    return doc_freq"
   ]
  },
  {
   "cell_type": "code",
   "execution_count": 7,
   "metadata": {
    "collapsed": true
   },
   "outputs": [],
   "source": [
    "def vectorize(features, text):\n",
    "    ans=[]\n",
    "    for flst in features:\n",
    "        regex=\"|\".join(flst)\n",
    "        count=len([wd for wd in text if re.match(regex,wd)])\n",
    "        ans.append(count/(float)(len(text)))\n",
    "    return ans"
   ]
  },
  {
   "cell_type": "code",
   "execution_count": 10,
   "metadata": {
    "collapsed": true
   },
   "outputs": [],
   "source": [
    "def tf_idf (flpath, crpath):\n",
    "    \n",
    "    tf_dict=text_freq(flpath)\n",
    "    df_dict=doc_freq(crpath)\n",
    "    \n",
    "    score={}\n",
    "    for wd in tf_dict.keys():\n",
    "        score[wd]=tf_dict[wd]*math.log(36.0/df_dict[wd])\n",
    "    \n",
    "    return score"
   ]
  },
  {
   "cell_type": "code",
   "execution_count": 11,
   "metadata": {
    "collapsed": true
   },
   "outputs": [],
   "source": [
    "def distance(c1,c2):\n",
    "    ans=0\n",
    "    for i, v in enumerate(c1):\n",
    "        ans+=(v-c2[i])**2\n",
    "    ans=ans**.5\n",
    "    return ans "
   ]
  },
  {
   "cell_type": "code",
   "execution_count": 12,
   "metadata": {
    "collapsed": true
   },
   "outputs": [],
   "source": [
    "def type_token(text):\n",
    "    ans=len(set(text))/(float)(len(text))\n",
    "    return ans"
   ]
  },
  {
   "cell_type": "code",
   "execution_count": null,
   "metadata": {
    "collapsed": true
   },
   "outputs": [],
   "source": []
  }
 ],
 "metadata": {
  "kernelspec": {
   "display_name": "Python 2",
   "language": "python",
   "name": "python2"
  },
  "language_info": {
   "codemirror_mode": {
    "name": "ipython",
    "version": 2
   },
   "file_extension": ".py",
   "mimetype": "text/x-python",
   "name": "python",
   "nbconvert_exporter": "python",
   "pygments_lexer": "ipython2",
   "version": "2.7.13"
  }
 },
 "nbformat": 4,
 "nbformat_minor": 2
}
