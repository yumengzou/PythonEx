{
 "cells": [
  {
   "cell_type": "code",
   "execution_count": 1,
   "metadata": {
    "collapsed": true
   },
   "outputs": [],
   "source": [
    "def tokenize(rawstr):\n",
    "    list=rawstr.split()\n",
    "    punctuations=\"?.,;\\/!':_\"\n",
    "    ans=[s.lower().strip(punctuations) for s in list] ## list transformation\n",
    "    return ans"
   ]
  },
  {
   "cell_type": "code",
   "execution_count": 6,
   "metadata": {
    "collapsed": true
   },
   "outputs": [],
   "source": [
    "path=\"/Users/yumeng.zou/Documents/shakespeare/*.txt\""
   ]
  },
  {
   "cell_type": "code",
   "execution_count": 9,
   "metadata": {
    "collapsed": true
   },
   "outputs": [],
   "source": [
    "def zipfs_law(path,n):\n",
    "    \n",
    "    ## build corpus: list of list of strings\n",
    "    import glob\n",
    "    filenames=glob.glob(path)\n",
    "    corpus=[tokenize(open(f,'r').read()) for f in filenames]\n",
    "    \n",
    "    ## build dictionary of tokens\n",
    "    tf={}\n",
    "    for text in corpus:\n",
    "        for token in text:\n",
    "            if token in tf:\n",
    "                tf[token]+=1\n",
    "            else:\n",
    "                tf[token]=1\n",
    "    \n",
    "    ## sort dictionary\n",
    "    tf_tuples=tf.items()\n",
    "    tf_tuples=sorted(tf_tuples,reverse=True,key=lambda x:x[1])\n",
    "    tf_tuples=tf_tuples[:n]\n",
    "    if n>len(tf_tuples):\n",
    "        n=len(tf_tuples)\n",
    "        print \"Only {} words in the corpus.\".format(len(tf_tuples))\n",
    "    \n",
    "    ## x-ranking  y-frequency\n",
    "    y=[freq for token,freq in tf_tuples] #tokens,y=zip(*tf_tuples)\n",
    "    x=range(1,n+1)\n",
    "    \n",
    "    ## log(x)-log(y) according to Zipf's law\n",
    "    import math\n",
    "    y=[math.log(float(i)) for i in y]\n",
    "    x=[math.log(float(j))for j in x]\n",
    "    \n",
    "    ## plot\n",
    "    %matplotlib inline\n",
    "    import matplotlib.pyplot as plt\n",
    "    plt.plot(x,y)\n",
    "    \n",
    "    return"
   ]
  },
  {
   "cell_type": "code",
   "execution_count": 36,
   "metadata": {
    "collapsed": false
   },
   "outputs": [
    {
     "data": {
      "image/png": "[encoded data removed]",
      "text/plain": [
       "<matplotlib.figure.Figure at 0x3fe6208>"
      ]
     },
     "metadata": {},
     "output_type": "display_data"
    }
   ],
   "source": [
    "zipfs_law(path, 10)"
   ]
  },
  {
   "cell_type": "code",
   "execution_count": 10,
   "metadata": {
    "collapsed": false
   },
   "outputs": [
    {
     "name": "stdout",
     "output_type": "stream",
     "text": [
      "Only 28882 words in the corpus.\n"
     ]
    },
    {
     "data": {
      "image/png": "[encoded data removed]",
      "text/plain": [
       "<matplotlib.figure.Figure at 0x42eca58>"
      ]
     },
     "metadata": {},
     "output_type": "display_data"
    }
   ],
   "source": [
    "zipfs_law(path, 100000)"
   ]
  },
  {
   "cell_type": "code",
   "execution_count": null,
   "metadata": {
    "collapsed": true
   },
   "outputs": [],
   "source": [
    "## tokenize(string):\n",
    "##    return list of strings\n",
    "\n",
    "## zipfs_law(string, int):\n",
    "##    return sorted list of tuples\n",
    "\n",
    "## tf(path):\n",
    "##    return dict"
   ]
  },
  {
   "cell_type": "code",
   "execution_count": null,
   "metadata": {
    "collapsed": true
   },
   "outputs": [],
   "source": []
  }
 ],
 "metadata": {
  "kernelspec": {
   "display_name": "Python 2",
   "language": "python",
   "name": "python2"
  },
  "language_info": {
   "codemirror_mode": {
    "name": "ipython",
    "version": 2
   },
   "file_extension": ".py",
   "mimetype": "text/x-python",
   "name": "python",
   "nbconvert_exporter": "python",
   "pygments_lexer": "ipython2",
   "version": "2.7.13"
  }
 },
 "nbformat": 4,
 "nbformat_minor": 2
}
