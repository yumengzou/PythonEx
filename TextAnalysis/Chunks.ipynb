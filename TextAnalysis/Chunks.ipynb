{
 "cells": [
  {
   "cell_type": "code",
   "execution_count": 1,
   "metadata": {
    "collapsed": true
   },
   "outputs": [],
   "source": [
    "l=range(100)"
   ]
  },
  {
   "cell_type": "code",
   "execution_count": 1,
   "metadata": {
    "collapsed": false
   },
   "outputs": [],
   "source": [
    "## segment a list into chunks of desired length\n",
    "def chunk(lst, n, overlap=False):\n",
    "    ## set default input\n",
    "    if overlap==False:\n",
    "        overlap=n\n",
    "    index=range(0,len(lst),overlap)\n",
    "    ans=[lst[i:i+n] for i in index]\n",
    "    ## python allows you to call index out of range\n",
    "    return ans"
   ]
  },
  {
   "cell_type": "code",
   "execution_count": 5,
   "metadata": {
    "collapsed": false
   },
   "outputs": [
    {
     "data": {
      "text/plain": [
       "[[0, 1, 2, 3, 4, 5, 6, 7, 8, 9],\n",
       " [7, 8, 9, 10, 11, 12, 13, 14, 15, 16],\n",
       " [14, 15, 16, 17, 18, 19, 20, 21, 22, 23],\n",
       " [21, 22, 23, 24, 25, 26, 27, 28, 29, 30],\n",
       " [28, 29, 30, 31, 32, 33, 34, 35, 36, 37],\n",
       " [35, 36, 37, 38, 39, 40, 41, 42, 43, 44],\n",
       " [42, 43, 44, 45, 46, 47, 48, 49, 50, 51],\n",
       " [49, 50, 51, 52, 53, 54, 55, 56, 57, 58],\n",
       " [56, 57, 58, 59, 60, 61, 62, 63, 64, 65],\n",
       " [63, 64, 65, 66, 67, 68, 69, 70, 71, 72],\n",
       " [70, 71, 72, 73, 74, 75, 76, 77, 78, 79],\n",
       " [77, 78, 79, 80, 81, 82, 83, 84, 85, 86],\n",
       " [84, 85, 86, 87, 88, 89, 90, 91, 92, 93],\n",
       " [91, 92, 93, 94, 95, 96, 97, 98, 99, 100],\n",
       " [98, 99, 100, 101, 102, 103, 104]]"
      ]
     },
     "execution_count": 5,
     "metadata": {},
     "output_type": "execute_result"
    }
   ],
   "source": [
    "l=range(105)\n",
    "chunk(l,10,7)"
   ]
  },
  {
   "cell_type": "code",
   "execution_count": 2,
   "metadata": {
    "collapsed": false
   },
   "outputs": [],
   "source": [
    "def tokenize(text):\n",
    "    ans=text.split()\n",
    "    punctuations=\",.?!\\\"\\':;-\"\n",
    "    ans=[s.strip(punctuations).lower() for s in ans]\n",
    "    return ans"
   ]
  },
  {
   "cell_type": "code",
   "execution_count": 3,
   "metadata": {
    "collapsed": true
   },
   "outputs": [],
   "source": [
    "def type_token(tokens):\n",
    "    ans=len(set(tokens))/(float)(len(tokens))\n",
    "    return ans"
   ]
  },
  {
   "cell_type": "code",
   "execution_count": 14,
   "metadata": {
    "collapsed": true
   },
   "outputs": [],
   "source": [
    "def plot_ttr(text, chunksize, step): ## step makes the transition of type token ratio smoother\n",
    "    \n",
    "    chunks=chunk(text,chunksize,step)\n",
    "    xy=[(i,type_token(c)) for i,c in enumerate(chunks)]\n",
    "    x,y=zip(*xy)\n",
    "    \n",
    "    %matplotlib inline\n",
    "    import matplotlib.pyplot as plt\n",
    "    plt.plot(x,y)\n",
    "    return"
   ]
  },
  {
   "cell_type": "code",
   "execution_count": 15,
   "metadata": {
    "collapsed": false
   },
   "outputs": [],
   "source": [
    "path=\"/Users/yumeng.zou/Documents/shakespeare/hamlet.txt\"\n",
    "hamlet=tokenize(open(path,'r').read())"
   ]
  },
  {
   "cell_type": "code",
   "execution_count": 16,
   "metadata": {
    "collapsed": false
   },
   "outputs": [
    {
     "data": {
      "image/png": "[encoded data removed]",
      "text/plain": [
       "<matplotlib.figure.Figure at 0x56982e8>"
      ]
     },
     "metadata": {},
     "output_type": "display_data"
    }
   ],
   "source": [
    "plot_ttr(hamlet,300,100)"
   ]
  },
  {
   "cell_type": "code",
   "execution_count": null,
   "metadata": {
    "collapsed": true
   },
   "outputs": [],
   "source": []
  }
 ],
 "metadata": {
  "kernelspec": {
   "display_name": "Python 2",
   "language": "python",
   "name": "python2"
  },
  "language_info": {
   "codemirror_mode": {
    "name": "ipython",
    "version": 2
   },
   "file_extension": ".py",
   "mimetype": "text/x-python",
   "name": "python",
   "nbconvert_exporter": "python",
   "pygments_lexer": "ipython2",
   "version": "2.7.13"
  }
 },
 "nbformat": 4,
 "nbformat_minor": 2
}
