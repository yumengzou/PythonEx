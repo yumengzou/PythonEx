{
 "cells": [
  {
   "cell_type": "code",
   "execution_count": 1,
   "metadata": {
    "collapsed": true
   },
   "outputs": [],
   "source": [
    "import re"
   ]
  },
  {
   "cell_type": "code",
   "execution_count": 2,
   "metadata": {
    "collapsed": true
   },
   "outputs": [],
   "source": [
    "## match a string\n",
    "regex = r\"([a-zA-Z]+) (\\d+)\""
   ]
  },
  {
   "cell_type": "code",
   "execution_count": 3,
   "metadata": {
    "collapsed": false
   },
   "outputs": [
    {
     "name": "stdout",
     "output_type": "stream",
     "text": [
      "Match at index 0, 7\n",
      "Full match: June 24\n",
      "Month: June\n",
      "Day: 24\n"
     ]
    }
   ],
   "source": [
    "if re.search(regex, \"June 24\"):\n",
    "    match = re.search(regex, \"June 24\") ## return a match object\n",
    "    print \"Match at index %s, %s\" % (match.start(), match.end())\n",
    "    print \"Full match: %s\" % (match.group(0))\n",
    "    print \"Month: %s\" % (match.group(1))\n",
    "    print \"Day: %s\" % (match.group(2))\n",
    "else:\n",
    "    print \"The regex pattern does not match. :(\""
   ]
  },
  {
   "cell_type": "code",
   "execution_count": 5,
   "metadata": {
    "collapsed": false
   },
   "outputs": [
    {
     "data": {
      "text/plain": [
       "_sre.SRE_Match"
      ]
     },
     "execution_count": 5,
     "metadata": {},
     "output_type": "execute_result"
    }
   ],
   "source": [
    "type(re.search(regex,\"June 24\"))"
   ]
  },
  {
   "cell_type": "code",
   "execution_count": 11,
   "metadata": {
    "collapsed": true
   },
   "outputs": [],
   "source": [
    "## capture a group\n",
    "regex=r\"[a-zA-Z]+ \\d+\"\n",
    "matches = re.findall(regex, \"June 24, August 9, Dec 12\") ## return a list of matched strings"
   ]
  },
  {
   "cell_type": "code",
   "execution_count": 12,
   "metadata": {
    "collapsed": false
   },
   "outputs": [
    {
     "name": "stdout",
     "output_type": "stream",
     "text": [
      "Full match: June 24\n",
      "Full match: August 9\n",
      "Full match: Dec 12\n"
     ]
    }
   ],
   "source": [
    "for match in matches:\n",
    "    print \"Full match: %s\" % (match)"
   ]
  },
  {
   "cell_type": "code",
   "execution_count": 15,
   "metadata": {
    "collapsed": false
   },
   "outputs": [
    {
     "name": "stdout",
     "output_type": "stream",
     "text": [
      "Match month: June\n",
      "Match month: August\n",
      "Match month: Dec\n"
     ]
    }
   ],
   "source": [
    "## only capture the month\n",
    "regex=r\"([a-zA-Z]+) \\d+\"\n",
    "matches=re.findall(regex,\"June 24, August 9, Dec 12\")\n",
    "for chars in matches:\n",
    "    print \"Match month: %s\" % (chars)"
   ]
  },
  {
   "cell_type": "code",
   "execution_count": 25,
   "metadata": {
    "collapsed": false
   },
   "outputs": [
    {
     "name": "stdout",
     "output_type": "stream",
     "text": [
      "('June',)\n",
      "Match at index: 0 - 7\n",
      "('August',)\n",
      "Match at index: 9 - 17\n",
      "('Dec',)\n",
      "Match at index: 19 - 25\n"
     ]
    }
   ],
   "source": [
    "## use object as iterator\n",
    "matches=re.finditer(regex,\"June 24, August 9, Dec 12\")\n",
    "for match in matches:\n",
    "    print match.groups()\n",
    "    print \"Match at index: %s - %s\" % (match.start(),match.end())"
   ]
  },
  {
   "cell_type": "code",
   "execution_count": 26,
   "metadata": {
    "collapsed": false
   },
   "outputs": [
    {
     "name": "stdout",
     "output_type": "stream",
     "text": [
      "24 of June, 9 of August, 12 of Dec\n"
     ]
    }
   ],
   "source": [
    "## find & replace strings\n",
    "regex = r\"([a-zA-Z]+) (\\d+)\"\n",
    "print re.sub(regex, r\"\\2 of \\1\",\"June 24, August 9, Dec 12\") \n",
    "## re.sub(pattern_regex, replacement_groups, string) return a string"
   ]
  },
  {
   "cell_type": "code",
   "execution_count": 33,
   "metadata": {
    "collapsed": false
   },
   "outputs": [
    {
     "name": "stdout",
     "output_type": "stream",
     "text": [
      "\t24 of June,\n",
      "\t9 of August,\n",
      "\t12 of Dec\n"
     ]
    }
   ],
   "source": [
    "print re.sub(regex, r\"\\t\\2 of \\1\",\"June 24,\\nAugust 9,\\nDec 12\") "
   ]
  },
  {
   "cell_type": "code",
   "execution_count": 34,
   "metadata": {
    "collapsed": false
   },
   "outputs": [
    {
     "name": "stdout",
     "output_type": "stream",
     "text": [
      "(0, 11)\n"
     ]
    }
   ],
   "source": [
    "## regex object\n",
    "regex = re.compile(r\"(\\w+) World\")\n",
    "result = regex.search(\"Hello World is the easiest\") ## return a match object\n",
    "if result:\n",
    "    print result.span()"
   ]
  },
  {
   "cell_type": "code",
   "execution_count": 35,
   "metadata": {
    "collapsed": false
   },
   "outputs": [
    {
     "name": "stdout",
     "output_type": "stream",
     "text": [
      "Hello\n",
      "Bonjour\n"
     ]
    }
   ],
   "source": [
    "for result in regex.findall(\"Hello World, Bonjour World\"):\n",
    "    print result"
   ]
  },
  {
   "cell_type": "code",
   "execution_count": 36,
   "metadata": {
    "collapsed": false
   },
   "outputs": [
    {
     "name": "stdout",
     "output_type": "stream",
     "text": [
      "Hello Earth\n"
     ]
    }
   ],
   "source": [
    "print regex.sub(r\"\\1 Earth\", \"Hello World\")"
   ]
  },
  {
   "cell_type": "code",
   "execution_count": 3,
   "metadata": {
    "collapsed": false
   },
   "outputs": [
    {
     "name": "stdout",
     "output_type": "stream",
     "text": [
      "['ty']\n",
      "['ty']\n",
      "['ty']\n",
      "['ty']\n"
     ]
    }
   ],
   "source": [
    "s=[[\"humpty\",\"dumpty\"],[\"twenty\",\"thirty\"]]\n",
    "for lst in s:\n",
    "    for w in lst:\n",
    "        print re.findall(\"ty\", w)"
   ]
  },
  {
   "cell_type": "code",
   "execution_count": null,
   "metadata": {
    "collapsed": true
   },
   "outputs": [],
   "source": []
  }
 ],
 "metadata": {
  "kernelspec": {
   "display_name": "Python 2",
   "language": "python",
   "name": "python2"
  },
  "language_info": {
   "codemirror_mode": {
    "name": "ipython",
    "version": 2
   },
   "file_extension": ".py",
   "mimetype": "text/x-python",
   "name": "python",
   "nbconvert_exporter": "python",
   "pygments_lexer": "ipython2",
   "version": "2.7.13"
  }
 },
 "nbformat": 4,
 "nbformat_minor": 2
}
